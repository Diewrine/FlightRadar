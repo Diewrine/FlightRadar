{
 "cells": [
  {
   "cell_type": "code",
   "execution_count": null,
   "id": "cab3de0b",
   "metadata": {},
   "outputs": [],
   "source": [
    "# from pyspark.sql.functions import current_timestamp, substring, translate, col\n",
    "\n",
    "# def EnrichData(df):\n",
    "#     df = df.withColumn(\"current_time\", current_timestamp())\n",
    "\n",
    "#     df = df.withColumn('tech_year', substring('current_time', 1,4)) \\\n",
    "#         .withColumn('tech_month', substring('current_time', 1,7)) \\\n",
    "#         .withColumn('tech_day', substring('current_time', 1,10)) \\\n",
    "#         .withColumn('file_horodate', translate(col(\"current_time\"), \"[- :.]\", \"\"))\n",
    "#     return df\n",
    "\n",
    "# def HorodateFile(df):\n",
    "#     enriched_df = EnrichData(df)\n",
    "#     return enriched_df.first()[\"file_horodate\"]\n",
    "\n",
    "# print(HorodateFile(df1))"
   ]
  },
  {
   "cell_type": "code",
   "execution_count": null,
   "id": "c7e093f8",
   "metadata": {},
   "outputs": [],
   "source": [
    "# schema = StructType([       \n",
    "#     StructField('id', StringType(), True),\n",
    "#     StructField('aircraft_age', StringType(), True),\n",
    "#     StructField('aircraft_code', StringType(), True),\n",
    "#     StructField('aircraft_country_id', StringType(), True),\n",
    "#     StructField('aircraft_history', StringType(), True),\n",
    "#     StructField('aircraft_model', StringType(), True),\n",
    "#     StructField('distance', StringType(), True),\n",
    "#     StructField('time', StringType(), True),\n",
    "#     StructField('time_details', StringType(), True),\n",
    "#     StructField('airline_name', StringType(), True),\n",
    "#     StructField('airline_short_name', StringType(), True),\n",
    "#     StructField('airline_iata', StringType(), True),\n",
    "#     StructField('airline_icao', StringType(), True),\n",
    "#     StructField('registration', StringType(), True),\n",
    "#     StructField('status_text', StringType(), True),\n",
    "#     StructField('origin_airport_name', StringType(), True),\n",
    "#     StructField('origin_airport_country_code', StringType(), True),\n",
    "#     StructField('origin_airport_country_name', StringType(), True),\n",
    "#     StructField('origin_airport_visible', StringType(), True),\n",
    "#     StructField('destination_airport_name', StringType(), True),\n",
    "#     StructField('destination_airport_country_code', StringType(), True),\n",
    "#     StructField('destination_airport_country_name', StringType(), True),\n",
    "#     StructField('destination_airport_visible', StringType(), True)\n",
    "# ])\n",
    "\n",
    "\n",
    "# df1 = spark.read.format(\"csv\")\\\n",
    "#           .schema(schema) \\\n",
    "#           .option(\"delimiter\", \",\")\\\n",
    "#           .load(\"C:\\\\Users\\\\SMARPOINT\\\\Desktop\\\\sampleFlightRadar.csv\")\n"
   ]
  },
  {
   "cell_type": "code",
   "execution_count": null,
   "id": "1f2988cb",
   "metadata": {},
   "outputs": [],
   "source": [
    "# import csv\n",
    "\n",
    "# with open('sampleFlightRadar.csv', 'a', newline='') as file:\n",
    "#     writer = csv.writer(file)\n",
    "#     writer.writerows(df_details_with_distance)"
   ]
  },
  {
   "cell_type": "code",
   "execution_count": 1,
   "id": "f45f4ebe",
   "metadata": {},
   "outputs": [
    {
     "name": "stdout",
     "output_type": "stream",
     "text": [
      "Requirement already satisfied: findspark in c:\\users\\smarpoint\\anaconda3\\lib\\site-packages (2.0.1)\n"
     ]
    }
   ],
   "source": [
    "# pip install pyspark\n",
    "!pip install findspark"
   ]
  },
  {
   "cell_type": "code",
   "execution_count": 2,
   "id": "5eabd387",
   "metadata": {},
   "outputs": [
    {
     "data": {
      "text/plain": [
       "'C:\\\\Users\\\\SMARPOINT\\\\anaconda3\\\\Lib\\\\site-packages\\\\pyspark'"
      ]
     },
     "execution_count": 2,
     "metadata": {},
     "output_type": "execute_result"
    }
   ],
   "source": [
    "#import pandas as pd\n",
    "from pyspark.sql.types import StructType, StructField, StringType, IntegerType, FloatType\n",
    "import pyspark\n",
    "import findspark\n",
    "findspark.init()\n",
    "findspark.find()"
   ]
  },
  {
   "cell_type": "code",
   "execution_count": 3,
   "id": "f077a290",
   "metadata": {},
   "outputs": [],
   "source": [
    "from pyspark.sql import SparkSession\n",
    "spark = SparkSession.builder.master(\"local[*]\").appName(\"cmw_flight_radar\").getOrCreate()"
   ]
  },
  {
   "cell_type": "code",
   "execution_count": 4,
   "id": "c90de40c",
   "metadata": {},
   "outputs": [
    {
     "name": "stdout",
     "output_type": "stream",
     "text": [
      "Requirement already satisfied: FlightRadarAPI in c:\\users\\smarpoint\\anaconda3\\lib\\site-packages (1.3.10)\n",
      "Requirement already satisfied: brotli in c:\\users\\smarpoint\\anaconda3\\lib\\site-packages (from FlightRadarAPI) (1.1.0)\n",
      "Requirement already satisfied: requests in c:\\users\\smarpoint\\anaconda3\\lib\\site-packages (from FlightRadarAPI) (2.31.0)\n",
      "Requirement already satisfied: charset-normalizer<4,>=2 in c:\\users\\smarpoint\\anaconda3\\lib\\site-packages (from requests->FlightRadarAPI) (2.0.4)\n",
      "Requirement already satisfied: idna<4,>=2.5 in c:\\users\\smarpoint\\anaconda3\\lib\\site-packages (from requests->FlightRadarAPI) (3.4)\n",
      "Requirement already satisfied: urllib3<3,>=1.21.1 in c:\\users\\smarpoint\\anaconda3\\lib\\site-packages (from requests->FlightRadarAPI) (1.26.16)\n",
      "Requirement already satisfied: certifi>=2017.4.17 in c:\\users\\smarpoint\\anaconda3\\lib\\site-packages (from requests->FlightRadarAPI) (2023.7.22)\n"
     ]
    }
   ],
   "source": [
    "!pip install FlightRadarAPI"
   ]
  },
  {
   "cell_type": "code",
   "execution_count": 5,
   "id": "c4ff025b",
   "metadata": {},
   "outputs": [],
   "source": [
    "from FlightRadar24 import FlightRadar24API\n",
    "fr_api = FlightRadar24API()"
   ]
  },
  {
   "cell_type": "markdown",
   "id": "b81526b3",
   "metadata": {},
   "source": [
    "## ---------------------------------------||||||||-------------------------------- ##"
   ]
  },
  {
   "cell_type": "markdown",
   "id": "dde1e84b",
   "metadata": {},
   "source": [
    "## GET FLIGHTS\n",
    "#### columns:  Aircraft ICAO .  REGISTRATION - Altitude - Ground Speed - heading=direction"
   ]
  },
  {
   "cell_type": "code",
   "execution_count": 11,
   "id": "dd6be258",
   "metadata": {},
   "outputs": [
    {
     "name": "stdout",
     "output_type": "stream",
     "text": [
      "Une erreur s'est produite : An unexpected error has occurred. Perhaps you are making too many calls?\n",
      "Une erreur s'est produite : An unexpected error has occurred. Perhaps you are making too many calls?\n",
      "Une erreur s'est produite : ('Connection aborted.', ConnectionResetError(10054, 'Une connexion existante a dû être fermée par l’hôte distant', None, 10054, None))\n"
     ]
    }
   ],
   "source": [
    "# flight.get_distance_from(fr_api.get_airport(flight.origin_airport_country_code)),\n",
    "\n",
    "df_details_with_distance = [] # Cette liste vide va contenir toutes les informations nécessaires pour faire les analyses\n",
    "for flight in fr_api.get_flights():\n",
    "    try :\n",
    "        details = fr_api.get_flight_details(flight.id)\n",
    "        flight.set_flight_details(details)\n",
    "        \n",
    "        code = flight.origin_airport_iata\n",
    "        \n",
    "        if(code!='N/A'):\n",
    "            airport = fr_api.get_airport(code)\n",
    "\n",
    "            df_details_with_distance.append((\n",
    "                flight.id,\n",
    "                flight.aircraft_age,\n",
    "                flight.aircraft_code,\n",
    "                flight.aircraft_country_id,\n",
    "                flight.aircraft_history,\n",
    "                flight.aircraft_model,\n",
    "                flight.get_distance_from(airport),\n",
    "                flight.time,\n",
    "                flight.time_details,\n",
    "                flight.airline_name, \n",
    "                flight.airline_short_name, \n",
    "                flight.airline_iata, \n",
    "                flight.airline_icao,\n",
    "                flight.registration,\n",
    "                flight.status_text, \n",
    "                flight.origin_airport_name,\n",
    "                flight.origin_airport_country_code,\n",
    "                flight.origin_airport_country_name,\n",
    "                flight.origin_airport_visible,\n",
    "                flight.destination_airport_name,\n",
    "                flight.destination_airport_country_code,\n",
    "                flight.destination_airport_country_name,\n",
    "                flight.destination_airport_visible\n",
    "                )\n",
    "            )\n",
    "            \n",
    "        else:\n",
    "            df_details_with_distance.append((\n",
    "                flight.id,\n",
    "                flight.aircraft_age,\n",
    "                flight.aircraft_code,\n",
    "                flight.aircraft_country_id,\n",
    "                flight.aircraft_history,\n",
    "                flight.aircraft_model,\n",
    "                0.0000,\n",
    "                flight.time,\n",
    "                flight.time_details,\n",
    "                flight.airline_name, \n",
    "                flight.airline_short_name, \n",
    "                flight.airline_iata, \n",
    "                flight.airline_icao,\n",
    "                flight.registration,\n",
    "                flight.status_text, \n",
    "                flight.origin_airport_name,\n",
    "                flight.origin_airport_country_code,\n",
    "                flight.origin_airport_country_name,\n",
    "                flight.origin_airport_visible,\n",
    "                flight.destination_airport_name,\n",
    "                flight.destination_airport_country_code,\n",
    "                flight.destination_airport_country_name,\n",
    "                flight.destination_airport_visible\n",
    "                )\n",
    "            )\n",
    "            \n",
    "    except Exception as e:\n",
    "        # Gestion des exceptions générales\n",
    "        print(\"Une erreur s'est produite :\", str(e))"
   ]
  },
  {
   "cell_type": "code",
   "execution_count": 12,
   "id": "8bfa253f",
   "metadata": {},
   "outputs": [],
   "source": [
    "from pyspark.sql.types import StructType,StructField, StringType\n",
    "\n",
    "df1_schema = StructType([       \n",
    "    StructField('id', StringType(), True),\n",
    "    StructField('aircraft_age', StringType(), True),\n",
    "    StructField('aircraft_code', StringType(), True),\n",
    "    StructField('aircraft_country_id', StringType(), True),\n",
    "    StructField('aircraft_history', StringType(), True),\n",
    "    StructField('aircraft_model', StringType(), True),\n",
    "    StructField('distance', StringType(), True),\n",
    "    StructField('time', StringType(), True),\n",
    "    StructField('time_details', StringType(), True),\n",
    "    StructField('airline_name', StringType(), True),\n",
    "    StructField('airline_short_name', StringType(), True),\n",
    "    StructField('airline_iata', StringType(), True),\n",
    "    StructField('airline_icao', StringType(), True),\n",
    "    StructField('registration', StringType(), True),\n",
    "    StructField('status_text', StringType(), True),\n",
    "    StructField('origin_airport_name', StringType(), True),\n",
    "    StructField('origin_airport_country_code', StringType(), True),\n",
    "    StructField('origin_airport_country_name', StringType(), True),\n",
    "    StructField('origin_airport_visible', StringType(), True),\n",
    "    StructField('destination_airport_name', StringType(), True),\n",
    "    StructField('destination_airport_country_code', StringType(), True),\n",
    "    StructField('destination_airport_country_name', StringType(), True),\n",
    "    StructField('destination_airport_visible', StringType(), True)\n",
    "])\n",
    "\n",
    "df1 = spark.createDataFrame(df_details_with_distance, df1_schema)"
   ]
  },
  {
   "cell_type": "markdown",
   "id": "0c20a3f9",
   "metadata": {},
   "source": [
    "# GET AIRLINES"
   ]
  },
  {
   "cell_type": "code",
   "execution_count": 13,
   "id": "920ca091",
   "metadata": {},
   "outputs": [],
   "source": [
    "from pyspark.sql.types import StructType, StructField, StringType, IntegerType\n",
    "\n",
    "airlines = fr_api.get_airlines()\n",
    "\n",
    "airlines_list= []\n",
    "\n",
    "for el in airlines:\n",
    "     airlines_list.append([el['Name'], el['Code'], el['ICAO']])\n",
    "        \n",
    "\n",
    "airlines_rdd = spark.sparkContext.parallelize(airlines_list)\n",
    "        \n",
    "df_airlines_schema = StructType([\n",
    "    StructField(\"Name\", StringType(), nullable=True),\n",
    "    StructField(\"Code\", StringType(), nullable=True),\n",
    "    StructField(\"airline_icao\", StringType(), nullable=True)\n",
    "])\n",
    "\n",
    "\n",
    "df_airlines = spark.createDataFrame(airlines_rdd, df_airlines_schema)"
   ]
  },
  {
   "cell_type": "markdown",
   "id": "8064ea67",
   "metadata": {},
   "source": [
    "# GET ZONES"
   ]
  },
  {
   "cell_type": "code",
   "execution_count": 14,
   "id": "42f3ddf6",
   "metadata": {},
   "outputs": [],
   "source": [
    "zones = fr_api.get_zones()"
   ]
  },
  {
   "cell_type": "markdown",
   "id": "fd4400fa",
   "metadata": {},
   "source": [
    "## GET AIRPORTS"
   ]
  },
  {
   "cell_type": "code",
   "execution_count": 15,
   "id": "861b4dfc",
   "metadata": {},
   "outputs": [],
   "source": [
    "airports = fr_api.get_airports()\n",
    "\n",
    "airports_list= []\n",
    "\n",
    "for el in airports:\n",
    "     airports_list.append([el.name, el.country, el.icao, el.iata, el.latitude, el.longitude, el.altitude])"
   ]
  },
  {
   "cell_type": "markdown",
   "id": "c8b0f9ad",
   "metadata": {},
   "source": [
    "# Question 1:\n",
    "#### La compagnie avec le + de vols en cours\n",
    "\n",
    "##### Only 'Landed' & 'Diverted' flights are actives"
   ]
  },
  {
   "cell_type": "code",
   "execution_count": 16,
   "id": "968234bc",
   "metadata": {},
   "outputs": [
    {
     "name": "stdout",
     "output_type": "stream",
     "text": [
      "+--------+------------+---------------+----------------+\n",
      "|      id|airline_icao|   airline_name|     status_text|\n",
      "+--------+------------+---------------+----------------+\n",
      "|32cb1cdc|         FDX|          FedEx|    Landed 11:38|\n",
      "|32cb4cb2|         FDX|          FedEx|    Landed 11:55|\n",
      "|32ce764f|         DAL|Delta Air Lines|Estimated- 08:26|\n",
      "|32cec82f|         CLX|       Cargolux|   Delayed 13:41|\n",
      "|32cf174c|         UAL|United Airlines|Estimated- 20:07|\n",
      "+--------+------------+---------------+----------------+\n",
      "only showing top 5 rows\n",
      "\n"
     ]
    }
   ],
   "source": [
    "df_1 = df1.select(\"id\", 'airline_icao', 'airline_name', 'status_text')\n",
    "df_1 = df_1.where(df_1.airline_icao != 'N/A') # REMOVE 'N/A' VALUES\n",
    "df_1.show(5)"
   ]
  },
  {
   "cell_type": "code",
   "execution_count": 18,
   "id": "da30fb13",
   "metadata": {},
   "outputs": [
    {
     "name": "stdout",
     "output_type": "stream",
     "text": [
      "+--------+------------+----------------------------------------------+-----------+\n",
      "|id      |airline_icao|airline_name                                  |status_text|\n",
      "+--------+------------+----------------------------------------------+-----------+\n",
      "|32cb1cdc|FDX         |FedEx                                         |Landed     |\n",
      "|32cb4cb2|FDX         |FedEx                                         |Landed     |\n",
      "|32cf7858|FDX         |FedEx                                         |Landed     |\n",
      "|32cf99d0|QTR         |Qatar Airways (25 Years of Excellence Sticker)|Landed     |\n",
      "|32cfa163|FDX         |FedEx                                         |Landed     |\n",
      "+--------+------------+----------------------------------------------+-----------+\n",
      "only showing top 5 rows\n",
      "\n"
     ]
    }
   ],
   "source": [
    "from pyspark.sql.functions import split\n",
    "df_1 = df_1.withColumn('status_text', split(df_1['status_text'], \" \").getItem(0))\n",
    "df_1 = df_1.where((df_1['status_text'] == 'Landed') | (df_1['status_text'] == 'Diverted'))\n",
    "df_1.show(5, truncate=False)"
   ]
  },
  {
   "cell_type": "code",
   "execution_count": 19,
   "id": "c6b491fa",
   "metadata": {},
   "outputs": [
    {
     "name": "stdout",
     "output_type": "stream",
     "text": [
      "+------------+----------------------+\n",
      "|airline_icao|num_flight_per_airline|\n",
      "+------------+----------------------+\n",
      "|         SVA|                     4|\n",
      "|         NBT|                     1|\n",
      "|         CLX|                     1|\n",
      "|         KAL|                     4|\n",
      "|         CKK|                     1|\n",
      "+------------+----------------------+\n",
      "only showing top 5 rows\n",
      "\n"
     ]
    }
   ],
   "source": [
    "df_1 = df_1.groupBy(\"airline_icao\").count()\n",
    "df_1=df_1.withColumnRenamed('count', 'num_flight_per_airline')\n",
    "df_1.show(5)"
   ]
  },
  {
   "cell_type": "markdown",
   "id": "f7656a00",
   "metadata": {},
   "source": [
    "##### Getting max"
   ]
  },
  {
   "cell_type": "code",
   "execution_count": 20,
   "id": "1cc90184",
   "metadata": {},
   "outputs": [],
   "source": [
    "df_1 = df_1.sort(df_1.num_flight_per_airline.desc()) # ORDERING DATA"
   ]
  },
  {
   "cell_type": "code",
   "execution_count": 21,
   "id": "08fa53b6",
   "metadata": {},
   "outputs": [],
   "source": [
    "max_airline_flight = df_1.limit(1)"
   ]
  },
  {
   "cell_type": "code",
   "execution_count": 22,
   "id": "95e31791",
   "metadata": {},
   "outputs": [
    {
     "name": "stdout",
     "output_type": "stream",
     "text": [
      "+-----------------+----+------------+\n",
      "|             Name|Code|airline_icao|\n",
      "+-----------------+----+------------+\n",
      "|American Airlines|  AA|         AAL|\n",
      "+-----------------+----+------------+\n",
      "\n"
     ]
    }
   ],
   "source": [
    "result_1 = df_airlines.where(df_airlines.airline_icao == max_airline_flight.first()['airline_icao'])\n",
    "result_1.show()"
   ]
  },
  {
   "cell_type": "code",
   "execution_count": null,
   "id": "751a0dca",
   "metadata": {},
   "outputs": [],
   "source": []
  },
  {
   "cell_type": "markdown",
   "id": "161ecc45",
   "metadata": {},
   "source": [
    "# Question 2\n",
    "##### Pour chaque continent, la compagnie avec le + de vols régionaux actifs (continent d'origine == continent de destination)"
   ]
  },
  {
   "cell_type": "code",
   "execution_count": 23,
   "id": "73b68924",
   "metadata": {},
   "outputs": [
    {
     "name": "stdout",
     "output_type": "stream",
     "text": [
      "Requirement already satisfied: a-world-of-countries in c:\\users\\smarpoint\\anaconda3\\lib\\site-packages (1.0.0)\n",
      "Requirement already satisfied: pydash in c:\\users\\smarpoint\\anaconda3\\lib\\site-packages (from a-world-of-countries) (7.0.6)\n",
      "Requirement already satisfied: typing-extensions!=4.6.0,>=3.10 in c:\\users\\smarpoint\\anaconda3\\lib\\site-packages (from pydash->a-world-of-countries) (4.7.1)\n",
      "Note: you may need to restart the kernel to use updated packages.\n"
     ]
    }
   ],
   "source": [
    "pip install a-world-of-countries"
   ]
  },
  {
   "cell_type": "code",
   "execution_count": 24,
   "id": "a95a73bd",
   "metadata": {},
   "outputs": [],
   "source": [
    "import awoc\n",
    "\n",
    "# Initialize the AWOC class.\n",
    "my_world = awoc.AWOC()"
   ]
  },
  {
   "cell_type": "code",
   "execution_count": 25,
   "id": "ce5bc1b3",
   "metadata": {},
   "outputs": [],
   "source": [
    "def retrieveContinent(country:str):\n",
    "    result = ''\n",
    "    try:\n",
    "        result = my_world.get_country_data(country)[\"Continent Name\"]\n",
    "    except Exception as e:\n",
    "        result = 'Unknow'\n",
    "    return result"
   ]
  },
  {
   "cell_type": "code",
   "execution_count": 26,
   "id": "1137e632",
   "metadata": {},
   "outputs": [],
   "source": [
    "from pyspark.sql.functions import udf\n",
    "\n",
    "udf_retrieveContinent = udf(retrieveContinent, StringType())"
   ]
  },
  {
   "cell_type": "code",
   "execution_count": 27,
   "id": "c7a6c118",
   "metadata": {},
   "outputs": [],
   "source": [
    "from pyspark.sql.functions import split\n",
    "df_2 = df1.select('airline_name', 'status_text', 'origin_airport_country_name','destination_airport_country_name')\n",
    "df_2 = df_2.filter((df_2.origin_airport_country_name !=\"N/A\") & (df_2.destination_airport_country_name !=\"N/A\"))\n",
    "df_2 = df_2.withColumn('status_text', split(df_2['status_text'], \" \").getItem(0))"
   ]
  },
  {
   "cell_type": "markdown",
   "id": "e1efb267",
   "metadata": {},
   "source": [
    "##### Only 'Landed' & 'Diverted' flights are actives"
   ]
  },
  {
   "cell_type": "code",
   "execution_count": 28,
   "id": "cb5de82f",
   "metadata": {},
   "outputs": [
    {
     "name": "stdout",
     "output_type": "stream",
     "text": [
      "+----------------------------------------------+-----------+---------------------------+--------------------------------+\n",
      "|airline_name                                  |status_text|origin_airport_country_name|destination_airport_country_name|\n",
      "+----------------------------------------------+-----------+---------------------------+--------------------------------+\n",
      "|FedEx                                         |Landed     |Taiwan                     |United States                   |\n",
      "|FedEx                                         |Landed     |South Korea                |United States                   |\n",
      "|FedEx                                         |Landed     |United States              |United States                   |\n",
      "|Qatar Airways (25 Years of Excellence Sticker)|Landed     |Qatar                      |Australia                       |\n",
      "|FedEx                                         |Landed     |China                      |Germany                         |\n",
      "+----------------------------------------------+-----------+---------------------------+--------------------------------+\n",
      "only showing top 5 rows\n",
      "\n"
     ]
    }
   ],
   "source": [
    "df_2 = df_2.where((df_2['status_text'] == 'Landed') | (df_2['status_text'] == 'Diverted'))\n",
    "df_2.show(5, truncate=False)"
   ]
  },
  {
   "cell_type": "markdown",
   "id": "e9718d4e",
   "metadata": {},
   "source": [
    "##### adding continent on dataframe"
   ]
  },
  {
   "cell_type": "code",
   "execution_count": 30,
   "id": "3ad9b5a6",
   "metadata": {},
   "outputs": [],
   "source": [
    "#ADDING CONTINENT IN DATAFRAME\n",
    "df_2 = df_2.withColumn('origin_continent', udf_retrieveContinent(df_2.origin_airport_country_name))\\\n",
    "            .withColumn('destination_continent', udf_retrieveContinent(df_2.destination_airport_country_name))\\\n",
    "             .select('airline_name', 'status_text', 'origin_continent','destination_continent')"
   ]
  },
  {
   "cell_type": "code",
   "execution_count": 31,
   "id": "448dca56",
   "metadata": {},
   "outputs": [],
   "source": [
    "df_2 = df_2.where(df_2['origin_continent'] == df_2['destination_continent'])"
   ]
  },
  {
   "cell_type": "code",
   "execution_count": 32,
   "id": "67a04ad8",
   "metadata": {},
   "outputs": [
    {
     "name": "stdout",
     "output_type": "stream",
     "text": [
      "+-----------------+-----------+-------------+\n",
      "|airline_name     |status_text|continent    |\n",
      "+-----------------+-----------+-------------+\n",
      "|FedEx            |Landed     |North America|\n",
      "|American Airlines|Landed     |North America|\n",
      "|American Airlines|Landed     |North America|\n",
      "|FedEx            |Landed     |North America|\n",
      "|FedEx            |Landed     |North America|\n",
      "+-----------------+-----------+-------------+\n",
      "only showing top 5 rows\n",
      "\n"
     ]
    }
   ],
   "source": [
    "df_2 = df_2.drop('origin_continent').withColumnRenamed('destination_continent', 'continent')\n",
    "df_2.show(5, truncate=False)"
   ]
  },
  {
   "cell_type": "code",
   "execution_count": 33,
   "id": "e9235c13",
   "metadata": {},
   "outputs": [],
   "source": [
    "#Remove 'unknow' continent\n",
    "df_2 = df_2.filter(df_2.continent != \"Unknow\")"
   ]
  },
  {
   "cell_type": "code",
   "execution_count": 34,
   "id": "8cc6efe3",
   "metadata": {},
   "outputs": [],
   "source": [
    "df_2 = df_2.groupBy(\"continent\", \"airline_name\").count()"
   ]
  },
  {
   "cell_type": "code",
   "execution_count": 37,
   "id": "644366c0",
   "metadata": {},
   "outputs": [
    {
     "name": "stdout",
     "output_type": "stream",
     "text": [
      "+---------+-----------------------+-----+-------+\n",
      "|continent|airline_name           |count|max_vol|\n",
      "+---------+-----------------------+-----+-------+\n",
      "|Africa   |Ethiopian Airlines     |4    |4      |\n",
      "|Africa   |Asky Airlines          |1    |4      |\n",
      "|Africa   |South African Airways  |1    |4      |\n",
      "|Africa   |Airlink                |1    |4      |\n",
      "|Asia     |China Southern Airlines|7    |7      |\n",
      "+---------+-----------------------+-----+-------+\n",
      "only showing top 5 rows\n",
      "\n"
     ]
    }
   ],
   "source": [
    "from pyspark.sql.window import Window\n",
    "from pyspark.sql.functions import row_number, max, col\n",
    "\n",
    "\n",
    "\n",
    "windowSpecAgg  = Window.partitionBy(\"continent\").orderBy(col(\"count\").desc())\n",
    "\n",
    "df_2 = df_2.withColumn(\"max_vol\", max(col(\"count\")).over(windowSpecAgg))\n",
    "df_2.show(5, truncate=False)"
   ]
  },
  {
   "cell_type": "markdown",
   "id": "9d6cc998",
   "metadata": {},
   "source": [
    "##### compagnie avec le + de vols régionaux actifs par continent"
   ]
  },
  {
   "cell_type": "code",
   "execution_count": 38,
   "id": "4ea5dd39",
   "metadata": {},
   "outputs": [
    {
     "name": "stdout",
     "output_type": "stream",
     "text": [
      "+-------------+------------------------------+-------+\n",
      "|continent    |airline_name                  |max_vol|\n",
      "+-------------+------------------------------+-------+\n",
      "|Africa       |Ethiopian Airlines            |4      |\n",
      "|Asia         |China Southern Airlines       |7      |\n",
      "|Europe       |Marabu                        |2      |\n",
      "|Europe       |Swiss                         |2      |\n",
      "|Europe       |TUI                           |2      |\n",
      "|Europe       |Ryanair                       |2      |\n",
      "|North America|American Airlines             |16     |\n",
      "|Oceania      |Virgin Australia              |2      |\n",
      "|South America|Avianca (Star Alliance Livery)|1      |\n",
      "+-------------+------------------------------+-------+\n",
      "\n"
     ]
    }
   ],
   "source": [
    "result_2 = df_2.where(df_2[\"count\"] == df_2[\"max_vol\"]).select(\"continent\", \"airline_name\", \"max_vol\")\n",
    "result_2.show(20, truncate=False)"
   ]
  },
  {
   "cell_type": "code",
   "execution_count": null,
   "id": "b0ab4a20",
   "metadata": {},
   "outputs": [],
   "source": []
  },
  {
   "cell_type": "markdown",
   "id": "92bf4e9f",
   "metadata": {},
   "source": [
    "# Question 3:\n",
    "\n",
    "##### Le vol en cours avec le trajet le plus long"
   ]
  },
  {
   "cell_type": "code",
   "execution_count": 39,
   "id": "3482146a",
   "metadata": {},
   "outputs": [],
   "source": [
    "df_3 = df1.select('id', 'aircraft_code', 'airline_name', 'registration', 'distance')"
   ]
  },
  {
   "cell_type": "code",
   "execution_count": 40,
   "id": "8590526c",
   "metadata": {},
   "outputs": [],
   "source": [
    "df_3 = df_3.sort(df_3.distance.desc())"
   ]
  },
  {
   "cell_type": "code",
   "execution_count": 41,
   "id": "0d3eae66",
   "metadata": {},
   "outputs": [
    {
     "name": "stdout",
     "output_type": "stream",
     "text": [
      "+--------+-------------+------------+------------+----------------+\n",
      "|      id|aircraft_code|airline_name|registration|        distance|\n",
      "+--------+-------------+------------+------------+----------------+\n",
      "|32cfa5ba|         B77L|    Emirates|      A6-EWE|9999.04271519971|\n",
      "+--------+-------------+------------+------------+----------------+\n",
      "\n"
     ]
    }
   ],
   "source": [
    "result_3 = df_3.limit(1)\n",
    "result_3.show()"
   ]
  },
  {
   "cell_type": "code",
   "execution_count": null,
   "id": "72745dc6",
   "metadata": {},
   "outputs": [],
   "source": []
  },
  {
   "cell_type": "markdown",
   "id": "d33a58c1",
   "metadata": {},
   "source": [
    "# Question 4\n",
    "##### Pour chaque continent, la longueur de vol moyenne"
   ]
  },
  {
   "cell_type": "code",
   "execution_count": 42,
   "id": "71914dd0",
   "metadata": {},
   "outputs": [],
   "source": [
    "from pyspark.sql.functions import split\n",
    "df_4 = df1.select('distance', 'origin_airport_country_name')\n",
    "df_4 = df_4.filter(df_4.origin_airport_country_name !=\"N/A\")"
   ]
  },
  {
   "cell_type": "code",
   "execution_count": 43,
   "id": "5b3162ef",
   "metadata": {},
   "outputs": [],
   "source": [
    "#ADDING CONTINENT IN DATAFRAME\n",
    "df_4 = df_4.withColumn('continent', udf_retrieveContinent(df_4.origin_airport_country_name))\\\n",
    "             .select('distance', 'origin_airport_country_name','continent')"
   ]
  },
  {
   "cell_type": "code",
   "execution_count": 45,
   "id": "ae639f67",
   "metadata": {},
   "outputs": [
    {
     "name": "stdout",
     "output_type": "stream",
     "text": [
      "+------------------+---------------------------+-------------+\n",
      "|          distance|origin_airport_country_name|    continent|\n",
      "+------------------+---------------------------+-------------+\n",
      "| 7518.696135708595|                     Taiwan|         Asia|\n",
      "| 6096.792230798888|                South Korea|         Asia|\n",
      "|12208.283433457806|               South Africa|       Africa|\n",
      "| 8810.141656786005|                  Hong Kong|         Asia|\n",
      "|13368.515410874199|              United States|North America|\n",
      "+------------------+---------------------------+-------------+\n",
      "only showing top 5 rows\n",
      "\n"
     ]
    }
   ],
   "source": [
    "#Remove 'unknow' continent\n",
    "df_4 = df_4.filter(df_4.continent != \"Unknow\")\n",
    "df_4.show(5)"
   ]
  },
  {
   "cell_type": "code",
   "execution_count": 46,
   "id": "3b917633",
   "metadata": {},
   "outputs": [],
   "source": [
    "from pyspark.sql.functions import avg\n",
    "result_4 = df_4.groupBy(\"continent\")\\\n",
    "        .agg(avg(\"distance\").alias(\"distance_moyenne\"))"
   ]
  },
  {
   "cell_type": "code",
   "execution_count": 47,
   "id": "78986c64",
   "metadata": {},
   "outputs": [
    {
     "name": "stdout",
     "output_type": "stream",
     "text": [
      "+-------------+------------------+\n",
      "|    continent|  distance_moyenne|\n",
      "+-------------+------------------+\n",
      "|       Europe|3484.2949200370454|\n",
      "|       Africa| 4218.629725820359|\n",
      "|North America| 5353.274076598737|\n",
      "|South America|  5829.93091361001|\n",
      "|      Oceania| 6028.701502778182|\n",
      "|         Asia| 4887.981127528674|\n",
      "+-------------+------------------+\n",
      "\n"
     ]
    }
   ],
   "source": [
    "result_4.show(20)"
   ]
  },
  {
   "cell_type": "code",
   "execution_count": null,
   "id": "1376efc6",
   "metadata": {},
   "outputs": [],
   "source": []
  },
  {
   "cell_type": "markdown",
   "id": "32c47f87",
   "metadata": {},
   "source": [
    "## Question 5\n",
    "\n",
    "##### L'entreprise constructeur d'avions avec le plus de vols actifs"
   ]
  },
  {
   "cell_type": "code",
   "execution_count": 48,
   "id": "ab8396ef",
   "metadata": {},
   "outputs": [],
   "source": [
    "df_5 = df1.select('id',\n",
    "                'aircraft_age',\n",
    "                'aircraft_code',\n",
    "                'status_text',\n",
    "                'aircraft_model')"
   ]
  },
  {
   "cell_type": "code",
   "execution_count": 49,
   "id": "5a3ff2a1",
   "metadata": {},
   "outputs": [],
   "source": [
    "df_5 = df_5.withColumn('status_text', split(df_5['status_text'], \" \").getItem(0))"
   ]
  },
  {
   "cell_type": "markdown",
   "id": "277a774d",
   "metadata": {},
   "source": [
    "##### Only 'Landed' & 'Diverted' flights are actives"
   ]
  },
  {
   "cell_type": "code",
   "execution_count": 50,
   "id": "207b5b6d",
   "metadata": {},
   "outputs": [
    {
     "name": "stdout",
     "output_type": "stream",
     "text": [
      "+--------+------------+-------------+-----------+------------------+\n",
      "|      id|aircraft_age|aircraft_code|status_text|    aircraft_model|\n",
      "+--------+------------+-------------+-----------+------------------+\n",
      "|32cb1cdc|         N/A|         B77L|     Landed|    Boeing 777-FS2|\n",
      "|32cb4cb2|         N/A|         B77L|     Landed|      Boeing 777-F|\n",
      "|32cf7858|         N/A|         B77L|     Landed|    Boeing 777-FS2|\n",
      "|32cf99d0|         N/A|         B77W|     Landed|Boeing 777-3DZ(ER)|\n",
      "|32cfa163|         N/A|         B77L|     Landed|      Boeing 777-F|\n",
      "+--------+------------+-------------+-----------+------------------+\n",
      "only showing top 5 rows\n",
      "\n"
     ]
    }
   ],
   "source": [
    "df_5 = df_5.where((df_5['status_text'] == 'Landed') | (df_5['status_text'] == 'Diverted'))\n",
    "df_5.show(5)"
   ]
  },
  {
   "cell_type": "code",
   "execution_count": 51,
   "id": "1555bfe1",
   "metadata": {},
   "outputs": [
    {
     "name": "stdout",
     "output_type": "stream",
     "text": [
      "+--------+------------+-------------+-----------+------------------+---------------+\n",
      "|      id|aircraft_age|aircraft_code|status_text|    aircraft_model|aircraf_builder|\n",
      "+--------+------------+-------------+-----------+------------------+---------------+\n",
      "|32cb1cdc|         N/A|         B77L|     Landed|    Boeing 777-FS2|         Boeing|\n",
      "|32cb4cb2|         N/A|         B77L|     Landed|      Boeing 777-F|         Boeing|\n",
      "|32cf7858|         N/A|         B77L|     Landed|    Boeing 777-FS2|         Boeing|\n",
      "|32cf99d0|         N/A|         B77W|     Landed|Boeing 777-3DZ(ER)|         Boeing|\n",
      "|32cfa163|         N/A|         B77L|     Landed|      Boeing 777-F|         Boeing|\n",
      "+--------+------------+-------------+-----------+------------------+---------------+\n",
      "only showing top 5 rows\n",
      "\n"
     ]
    }
   ],
   "source": [
    "from pyspark.sql.functions import split\n",
    "df_5 = df_5.withColumn('aircraf_builder', split(df_5['aircraft_model'], \" \").getItem(0))\n",
    "df_5.show(5)"
   ]
  },
  {
   "cell_type": "code",
   "execution_count": 52,
   "id": "7bfb8df3",
   "metadata": {},
   "outputs": [],
   "source": [
    "df_5 = df_5.groupBy('aircraf_builder').count()"
   ]
  },
  {
   "cell_type": "code",
   "execution_count": 53,
   "id": "9530f99d",
   "metadata": {},
   "outputs": [],
   "source": [
    "df_5 = df_5.withColumnRenamed('count', 'occurence_aircraft_builder')"
   ]
  },
  {
   "cell_type": "code",
   "execution_count": 54,
   "id": "fee7f454",
   "metadata": {},
   "outputs": [
    {
     "name": "stdout",
     "output_type": "stream",
     "text": [
      "+---------------+--------------------------+\n",
      "|aircraf_builder|occurence_aircraft_builder|\n",
      "+---------------+--------------------------+\n",
      "|         Boeing|                       137|\n",
      "|         Airbus|                       128|\n",
      "|        Pilatus|                         2|\n",
      "|      McDonnell|                         1|\n",
      "|             De|                         1|\n",
      "+---------------+--------------------------+\n",
      "only showing top 5 rows\n",
      "\n"
     ]
    }
   ],
   "source": [
    "df_5 = df_5.sort(df_5.occurence_aircraft_builder.desc())\n",
    "df_5.show(5)"
   ]
  },
  {
   "cell_type": "code",
   "execution_count": 55,
   "id": "141952d1",
   "metadata": {},
   "outputs": [
    {
     "name": "stdout",
     "output_type": "stream",
     "text": [
      "+---------------+--------------------------+\n",
      "|aircraf_builder|occurence_aircraft_builder|\n",
      "+---------------+--------------------------+\n",
      "|         Boeing|                       137|\n",
      "+---------------+--------------------------+\n",
      "\n"
     ]
    }
   ],
   "source": [
    "result_5 = df_5.limit(1)\n",
    "result_5.show()"
   ]
  },
  {
   "cell_type": "code",
   "execution_count": null,
   "id": "241a9fd9",
   "metadata": {},
   "outputs": [],
   "source": []
  },
  {
   "cell_type": "markdown",
   "id": "1dec1102",
   "metadata": {},
   "source": [
    "# Question 6\n",
    "\n",
    "##### Pour chaque pays de compagnie aérienne, le top 3 des modèles d'avion en usage"
   ]
  },
  {
   "cell_type": "code",
   "execution_count": null,
   "id": "dc432b7b",
   "metadata": {},
   "outputs": [],
   "source": []
  },
  {
   "cell_type": "markdown",
   "id": "216bf7b6",
   "metadata": {},
   "source": [
    "## Save data"
   ]
  },
  {
   "cell_type": "code",
   "execution_count": 56,
   "id": "e88ed7ea",
   "metadata": {},
   "outputs": [],
   "source": [
    "from pyspark.sql.functions import current_timestamp, substring, regexp_replace, translate, col"
   ]
  },
  {
   "cell_type": "code",
   "execution_count": 57,
   "id": "d3591b6e",
   "metadata": {},
   "outputs": [],
   "source": [
    "# ******************************************************************************\n",
    "result_1 = result_1.withColumn(\"current_time\", current_timestamp())\n",
    "\n",
    "result_1 = result_1.withColumn('tech_year', substring('current_time', 1,4))\\\n",
    "                              .withColumn('tech_month', substring('current_time', 1,7))\\\n",
    "                              .withColumn('tech_day', substring('current_time', 1,10))\\\n",
    "                              .withColumn('file_horodate', translate(col(\"current_time\"), \"[- :.]\", \"\"))\n",
    "# ******************************************************************************\n",
    "\n",
    "\n",
    "# ******************************************************************************\n",
    "result_2 = result_2.withColumn(\"current_time\", current_timestamp())\n",
    "\n",
    "result_2 = result_2.withColumn('tech_year', substring('current_time', 1,4))\\\n",
    "                              .withColumn('tech_month', substring('current_time', 1,7))\\\n",
    "                              .withColumn('tech_day', substring('current_time', 1,10))\\\n",
    "                              .withColumn('file_horodate', translate(col(\"current_time\"), \"[- :.]\", \"\"))\n",
    "# ******************************************************************************\n",
    "\n",
    "# ******************************************************************************\n",
    "result_3 = result_3.withColumn(\"current_time\", current_timestamp())\n",
    "\n",
    "result_3 = result_3.withColumn('tech_year', substring('current_time', 1,4))\\\n",
    "                              .withColumn('tech_month', substring('current_time', 1,7))\\\n",
    "                              .withColumn('tech_day', substring('current_time', 1,10))\\\n",
    "                              .withColumn('file_horodate', translate(col(\"current_time\"), \"[- :.]\", \"\"))\n",
    "# ******************************************************************************\n",
    "\n",
    "\n",
    "# ******************************************************************************\n",
    "result_4 = result_4.withColumn(\"current_time\", current_timestamp())\n",
    "\n",
    "result_4 = result_4.withColumn('tech_year', substring('current_time', 1,4))\\\n",
    "                              .withColumn('tech_month', substring('current_time', 1,7))\\\n",
    "                              .withColumn('tech_day', substring('current_time', 1,10))\\\n",
    "                              .withColumn('file_horodate', translate(col(\"current_time\"), \"[- :.]\", \"\"))\n",
    "# ******************************************************************************\n",
    "\n",
    "\n",
    "# ******************************************************************************\n",
    "result_5 = result_5.withColumn(\"current_time\", current_timestamp())\n",
    "\n",
    "result_5 = result_5.withColumn('tech_year', substring('current_time', 1,4))\\\n",
    "                              .withColumn('tech_month', substring('current_time', 1,7))\\\n",
    "                              .withColumn('tech_day', substring('current_time', 1,10))\\\n",
    "                              .withColumn('file_horodate', translate(col(\"current_time\"), \"[- :.]\", \"\"))\n",
    "# ******************************************************************************"
   ]
  },
  {
   "cell_type": "code",
   "execution_count": 58,
   "id": "9c91d39a",
   "metadata": {},
   "outputs": [
    {
     "name": "stdout",
     "output_type": "stream",
     "text": [
      "+---------------+--------------------------+-----------------------+---------+----------+----------+-----------------+\n",
      "|aircraf_builder|occurence_aircraft_builder|current_time           |tech_year|tech_month|tech_day  |file_horodate    |\n",
      "+---------------+--------------------------+-----------------------+---------+----------+----------+-----------------+\n",
      "|Boeing         |137                       |2023-11-13 13:43:06.246|2023     |2023-11   |2023-11-13|20231113134306246|\n",
      "+---------------+--------------------------+-----------------------+---------+----------+----------+-----------------+\n",
      "\n"
     ]
    }
   ],
   "source": [
    "result_5.show(5, truncate=False)"
   ]
  },
  {
   "cell_type": "code",
   "execution_count": null,
   "id": "db6e9ea0",
   "metadata": {},
   "outputs": [],
   "source": [
    "file_horodate = result_5.first()[\"file_horodate\"]\n",
    "\n",
    "\n",
    "result_5.write.partitionBy(\"tech_year\", \"tech_month\", \"tech_day\").mode('append')\\\n",
    ".format('csv').save(\"{path}\\\\flights\" + file_file_horodate + \".csv\")"
   ]
  },
  {
   "cell_type": "code",
   "execution_count": null,
   "id": "e763e542",
   "metadata": {},
   "outputs": [],
   "source": []
  }
 ],
 "metadata": {
  "kernelspec": {
   "display_name": "Python 3 (ipykernel)",
   "language": "python",
   "name": "python3"
  },
  "language_info": {
   "codemirror_mode": {
    "name": "ipython",
    "version": 3
   },
   "file_extension": ".py",
   "mimetype": "text/x-python",
   "name": "python",
   "nbconvert_exporter": "python",
   "pygments_lexer": "ipython3",
   "version": "3.11.5"
  }
 },
 "nbformat": 4,
 "nbformat_minor": 5
}
